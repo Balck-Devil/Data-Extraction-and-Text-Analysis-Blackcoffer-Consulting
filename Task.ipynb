{
 "metadata": {
  "language_info": {
   "codemirror_mode": {
    "name": "ipython",
    "version": 3
   },
   "file_extension": ".py",
   "mimetype": "text/x-python",
   "name": "python",
   "nbconvert_exporter": "python",
   "pygments_lexer": "ipython3",
   "version": "3.8.1"
  },
  "orig_nbformat": 2,
  "kernelspec": {
   "name": "python381jvsc74a57bd04bf5ffbeb8bb60b501bd370f4f30f4e42d71afa6b8bb033ca8128ca692dcec38",
   "display_name": "Python 3.8.1 64-bit"
  }
 },
 "nbformat": 4,
 "nbformat_minor": 2,
 "cells": [
  {
   "cell_type": "code",
   "execution_count": 1,
   "metadata": {},
   "outputs": [],
   "source": [
    "# Requried Libraries\n",
    "\n",
    "from urllib.request import urlopen\n",
    "import os\n",
    "import re\n",
    "import pandas as pd\n",
    "from nltk.tokenize import RegexpTokenizer, sent_tokenize\n",
    "import numpy as np"
   ]
  },
  {
   "cell_type": "code",
   "execution_count": 2,
   "metadata": {},
   "outputs": [
    {
     "output_type": "execute_result",
     "data": {
      "text/plain": [
       "      CIK            CONAME     FYRMO      FDATE     FORM  \\\n",
       "0  3662.0  SUNBEAM CORP/FL/  199803.0 1998-03-06  10-K405   \n",
       "1  3662.0  SUNBEAM CORP/FL/  199805.0 1998-05-15     10-Q   \n",
       "2  3662.0  SUNBEAM CORP/FL/  199808.0 1998-08-13  NT 10-Q   \n",
       "3  3662.0  SUNBEAM CORP/FL/  199811.0 1998-11-12   10-K/A   \n",
       "4  3662.0  SUNBEAM CORP/FL/  199811.0 1998-11-16  NT 10-Q   \n",
       "\n",
       "                                   SECFNAME  \n",
       "0  edgar/data/3662/0000950170-98-000413.txt  \n",
       "1  edgar/data/3662/0000950170-98-001001.txt  \n",
       "2  edgar/data/3662/0000950172-98-000783.txt  \n",
       "3  edgar/data/3662/0000950170-98-002145.txt  \n",
       "4  edgar/data/3662/0000950172-98-001203.txt  "
      ],
      "text/html": "<div>\n<style scoped>\n    .dataframe tbody tr th:only-of-type {\n        vertical-align: middle;\n    }\n\n    .dataframe tbody tr th {\n        vertical-align: top;\n    }\n\n    .dataframe thead th {\n        text-align: right;\n    }\n</style>\n<table border=\"1\" class=\"dataframe\">\n  <thead>\n    <tr style=\"text-align: right;\">\n      <th></th>\n      <th>CIK</th>\n      <th>CONAME</th>\n      <th>FYRMO</th>\n      <th>FDATE</th>\n      <th>FORM</th>\n      <th>SECFNAME</th>\n    </tr>\n  </thead>\n  <tbody>\n    <tr>\n      <th>0</th>\n      <td>3662.0</td>\n      <td>SUNBEAM CORP/FL/</td>\n      <td>199803.0</td>\n      <td>1998-03-06</td>\n      <td>10-K405</td>\n      <td>edgar/data/3662/0000950170-98-000413.txt</td>\n    </tr>\n    <tr>\n      <th>1</th>\n      <td>3662.0</td>\n      <td>SUNBEAM CORP/FL/</td>\n      <td>199805.0</td>\n      <td>1998-05-15</td>\n      <td>10-Q</td>\n      <td>edgar/data/3662/0000950170-98-001001.txt</td>\n    </tr>\n    <tr>\n      <th>2</th>\n      <td>3662.0</td>\n      <td>SUNBEAM CORP/FL/</td>\n      <td>199808.0</td>\n      <td>1998-08-13</td>\n      <td>NT 10-Q</td>\n      <td>edgar/data/3662/0000950172-98-000783.txt</td>\n    </tr>\n    <tr>\n      <th>3</th>\n      <td>3662.0</td>\n      <td>SUNBEAM CORP/FL/</td>\n      <td>199811.0</td>\n      <td>1998-11-12</td>\n      <td>10-K/A</td>\n      <td>edgar/data/3662/0000950170-98-002145.txt</td>\n    </tr>\n    <tr>\n      <th>4</th>\n      <td>3662.0</td>\n      <td>SUNBEAM CORP/FL/</td>\n      <td>199811.0</td>\n      <td>1998-11-16</td>\n      <td>NT 10-Q</td>\n      <td>edgar/data/3662/0000950172-98-001203.txt</td>\n    </tr>\n  </tbody>\n</table>\n</div>"
     },
     "metadata": {},
     "execution_count": 2
    }
   ],
   "source": [
    "# Load cik_list.xlsx data\n",
    "\n",
    "data = pd.read_excel(\"D:/Work/Blackcoffer/cik_list.xlsx\",engine='openpyxl')\n",
    "data.head()"
   ]
  },
  {
   "cell_type": "code",
   "execution_count": 3,
   "metadata": {},
   "outputs": [
    {
     "output_type": "execute_result",
     "data": {
      "text/plain": [
       "(8762, 6)"
      ]
     },
     "metadata": {},
     "execution_count": 3
    }
   ],
   "source": [
    "data.shape"
   ]
  },
  {
   "cell_type": "code",
   "execution_count": 4,
   "metadata": {},
   "outputs": [
    {
     "output_type": "execute_result",
     "data": {
      "text/plain": [
       "(152, 6)"
      ]
     },
     "metadata": {},
     "execution_count": 4
    }
   ],
   "source": [
    "# Droping null values\n",
    "\n",
    "data.isnull().sum()\n",
    "data.dropna(inplace=True,axis=0)\n",
    "data.shape"
   ]
  },
  {
   "cell_type": "code",
   "execution_count": 5,
   "metadata": {},
   "outputs": [
    {
     "output_type": "execute_result",
     "data": {
      "text/plain": [
       "      CIK            CONAME     FYRMO      FDATE     FORM  \\\n",
       "0  3662.0  SUNBEAM CORP/FL/  199803.0 1998-03-06  10-K405   \n",
       "1  3662.0  SUNBEAM CORP/FL/  199805.0 1998-05-15     10-Q   \n",
       "2  3662.0  SUNBEAM CORP/FL/  199808.0 1998-08-13  NT 10-Q   \n",
       "3  3662.0  SUNBEAM CORP/FL/  199811.0 1998-11-12   10-K/A   \n",
       "4  3662.0  SUNBEAM CORP/FL/  199811.0 1998-11-16  NT 10-Q   \n",
       "\n",
       "                                            SECFNAME  \n",
       "0  https://www.sec.gov/Archives/edgar/data/3662/0...  \n",
       "1  https://www.sec.gov/Archives/edgar/data/3662/0...  \n",
       "2  https://www.sec.gov/Archives/edgar/data/3662/0...  \n",
       "3  https://www.sec.gov/Archives/edgar/data/3662/0...  \n",
       "4  https://www.sec.gov/Archives/edgar/data/3662/0...  "
      ],
      "text/html": "<div>\n<style scoped>\n    .dataframe tbody tr th:only-of-type {\n        vertical-align: middle;\n    }\n\n    .dataframe tbody tr th {\n        vertical-align: top;\n    }\n\n    .dataframe thead th {\n        text-align: right;\n    }\n</style>\n<table border=\"1\" class=\"dataframe\">\n  <thead>\n    <tr style=\"text-align: right;\">\n      <th></th>\n      <th>CIK</th>\n      <th>CONAME</th>\n      <th>FYRMO</th>\n      <th>FDATE</th>\n      <th>FORM</th>\n      <th>SECFNAME</th>\n    </tr>\n  </thead>\n  <tbody>\n    <tr>\n      <th>0</th>\n      <td>3662.0</td>\n      <td>SUNBEAM CORP/FL/</td>\n      <td>199803.0</td>\n      <td>1998-03-06</td>\n      <td>10-K405</td>\n      <td>https://www.sec.gov/Archives/edgar/data/3662/0...</td>\n    </tr>\n    <tr>\n      <th>1</th>\n      <td>3662.0</td>\n      <td>SUNBEAM CORP/FL/</td>\n      <td>199805.0</td>\n      <td>1998-05-15</td>\n      <td>10-Q</td>\n      <td>https://www.sec.gov/Archives/edgar/data/3662/0...</td>\n    </tr>\n    <tr>\n      <th>2</th>\n      <td>3662.0</td>\n      <td>SUNBEAM CORP/FL/</td>\n      <td>199808.0</td>\n      <td>1998-08-13</td>\n      <td>NT 10-Q</td>\n      <td>https://www.sec.gov/Archives/edgar/data/3662/0...</td>\n    </tr>\n    <tr>\n      <th>3</th>\n      <td>3662.0</td>\n      <td>SUNBEAM CORP/FL/</td>\n      <td>199811.0</td>\n      <td>1998-11-12</td>\n      <td>10-K/A</td>\n      <td>https://www.sec.gov/Archives/edgar/data/3662/0...</td>\n    </tr>\n    <tr>\n      <th>4</th>\n      <td>3662.0</td>\n      <td>SUNBEAM CORP/FL/</td>\n      <td>199811.0</td>\n      <td>1998-11-16</td>\n      <td>NT 10-Q</td>\n      <td>https://www.sec.gov/Archives/edgar/data/3662/0...</td>\n    </tr>\n  </tbody>\n</table>\n</div>"
     },
     "metadata": {},
     "execution_count": 5
    }
   ],
   "source": [
    "# Preparing url column\n",
    "\n",
    "data[\"SECFNAME\"] = \"https://www.sec.gov/Archives/\" + data[\"SECFNAME\"]\n",
    "data.head()"
   ]
  },
  {
   "cell_type": "code",
   "execution_count": 6,
   "metadata": {},
   "outputs": [],
   "source": [
    "# Downloading text files\n",
    "# I am commenting this because i have alredy downloded that\n",
    "\n",
    "# for i in data[\"SECFNAME\"]:\n",
    "#     r = urllib.request.urlretrieve(i, \"D:/Work/Blackcoffer/Test1/{}\".format(str(i).split(\"/\")[-1]))"
   ]
  },
  {
   "cell_type": "code",
   "execution_count": 7,
   "metadata": {},
   "outputs": [],
   "source": [
    "# Text extraction patterns\n",
    "\n",
    "mda_regex = r\"item[^a-zA-Z\\n]*\\d\\s*\\.\\s*management\\'s discussion and analysis.*?^\\s*item[^a-zA-Z\\n]*\\d\\s*\\.*\"\n",
    "qqd_regex = r\"item[^a-zA-Z\\n]*\\d[a-z]?\\.?\\s*Quantitative and Qualitative Disclosures about \" \\\n",
    "            r\"Market Risk.*?^\\s*item\\s*\\d\\s*\"\n",
    "riskfactor_regex = r\"item[^a-zA-Z\\n]*\\d[a-z]?\\.?\\s*Risk Factors.*?^\\s*item\\s*\\d\\s*\""
   ]
  },
  {
   "cell_type": "code",
   "execution_count": 8,
   "metadata": {},
   "outputs": [],
   "source": [
    "# Filepath locations\n",
    "\n",
    "stopWordsFile = 'D:/Work/Blackcoffer/StopWords_Generic.txt'\n",
    "positiveWordsFile = 'D:/Work/Blackcoffer/PositiveWords.txt'\n",
    "nagitiveWordsFile = 'D:/Work/Blackcoffer/NegativeWords.txt'\n",
    "uncertainty_dictionaryFile = 'D:/Work/Blackcoffer/uncertainty_dictionary.txt'\n",
    "constraining_dictionaryFile = 'D:/Work/Blackcoffer/constraining_dictionary.txt'"
   ]
  },
  {
   "cell_type": "code",
   "execution_count": 9,
   "metadata": {},
   "outputs": [],
   "source": [
    "# Function for extracting requried text\n",
    "\n",
    "def rawdata_extract(path, cikListFile):\n",
    "    html_regex = re.compile(r'<.*?>')\n",
    "    extraxted_data=[]\n",
    "    \n",
    "    \n",
    "    cikListFile = pd.read_excel(cikListFile,engine=\"openpyxl\")\n",
    "    for index, row in cikListFile.iterrows():\n",
    "        processingFile=str(row['SECFNAME']).split('/')\n",
    "        inputFile = list(processingFile)[-1]\n",
    "        cik=row['CIK']\n",
    "        coname=row['CONAME']\n",
    "        fyrmo=row['FYRMO']\n",
    "        fdate = row['FDATE']\n",
    "        form = row['FORM']\n",
    "        secfname=row['SECFNAME']\n",
    "        for fileName in os.listdir(path):\n",
    "            filenameopen = os.path.join(path, fileName)\n",
    "            dirFileName = filenameopen.split('\\\\')\n",
    "            currentFile=dirFileName[1]\n",
    "\n",
    "            if os.path.isfile(filenameopen) and currentFile == inputFile :\n",
    "                resultdict = dict()\n",
    "                resultdict['CIK'] = cik\n",
    "                resultdict['CONAME'] = coname\n",
    "                resultdict['FYRMO'] = fyrmo\n",
    "                resultdict['FDATE'] = fdate\n",
    "                resultdict['FORM'] = form\n",
    "                resultdict['SECFNAME'] = secfname\n",
    "                \n",
    "                with open(filenameopen, 'r', encoding='utf-8', errors=\"replace\") as in_file:\n",
    "                    content = in_file.read()\n",
    "                    content = re.sub(html_regex,'',content)\n",
    "                    content = content.replace('&nbsp;','')\n",
    "                    content = re.sub(r'&#\\d+;', '', content)\n",
    "                    matches_mda = re.findall(mda_regex, content, re.IGNORECASE | re.DOTALL | re.MULTILINE)\n",
    "                    if matches_mda:\n",
    "                        result = max(matches_mda, key=len)\n",
    "                        result = str(result).replace('\\n', '')\n",
    "                        resultdict['mda_extract'] = result\n",
    "                    else:\n",
    "                        resultdict['mda_extract'] = \"\"\n",
    "                    match_qqd = re.findall(qqd_regex, content, re.IGNORECASE | re.DOTALL | re.MULTILINE)\n",
    "                    if match_qqd:\n",
    "                        result_qqd = max(match_qqd, key=len)\n",
    "                        result_qqd = str(result_qqd).replace('\\n','')\n",
    "                        resultdict['qqd_extract']= result_qqd\n",
    "                    else:\n",
    "                        resultdict['qqd_extract'] = \"\"\n",
    "                    match_riskfactor = re.findall(riskfactor_regex, content, re.IGNORECASE | re.DOTALL | re.MULTILINE)\n",
    "                    if match_riskfactor:\n",
    "                        result_riskfactor = max(match_riskfactor, key=len)\n",
    "                        result_riskfactor = str(result_riskfactor).replace('\\n', '')\n",
    "                        resultdict['riskfactor_extract'] = result_riskfactor\n",
    "                    else:\n",
    "                        resultdict['riskfactor_extract'] = \"\"\n",
    "                    extraxted_data.append(resultdict)\n",
    "\n",
    "                in_file.close()\n",
    "\n",
    "    return extraxted_data"
   ]
  },
  {
   "source": [
    "## Section 1.1: Positive score, negative score, polarity score"
   ],
   "cell_type": "markdown",
   "metadata": {}
  },
  {
   "source": [
    "#### Loading stop words dictionary for removing stop words"
   ],
   "cell_type": "markdown",
   "metadata": {}
  },
  {
   "cell_type": "code",
   "execution_count": 10,
   "metadata": {},
   "outputs": [],
   "source": [
    "# open stopwords file\n",
    "\n",
    "with open(stopWordsFile ,'r') as stop_words:\n",
    "    stopWords = stop_words.read().lower()\n",
    "stopWordList = stopWords.split('\\n')\n",
    "stopWordList[-1:] = []"
   ]
  },
  {
   "source": [
    "#### tokenizeing module and filtering tokens using stop words list, removing punctuations"
   ],
   "cell_type": "markdown",
   "metadata": {}
  },
  {
   "cell_type": "code",
   "execution_count": 11,
   "metadata": {},
   "outputs": [],
   "source": [
    "# Tokenizer\n",
    "\n",
    "def tokenizer(text):\n",
    "    text = text.lower()\n",
    "    tokenizer = RegexpTokenizer(r'\\w+')\n",
    "    tokens = tokenizer.tokenize(text)\n",
    "    filtered_words = list(filter(lambda token: token not in stopWordList, tokens))\n",
    "    return filtered_words"
   ]
  },
  {
   "source": [
    "### Positive Words"
   ],
   "cell_type": "markdown",
   "metadata": {}
  },
  {
   "cell_type": "code",
   "execution_count": 12,
   "metadata": {},
   "outputs": [],
   "source": [
    "# Loading positive words\n",
    "\n",
    "with open(positiveWordsFile,'r') as posfile:\n",
    "    positivewords=posfile.read().lower()\n",
    "positiveWordList=positivewords.split('\\n')"
   ]
  },
  {
   "cell_type": "code",
   "execution_count": 13,
   "metadata": {},
   "outputs": [],
   "source": [
    "# Calculating positive score\n",
    "\n",
    "def positive_score(text):\n",
    "    numPosWords = 0\n",
    "    rawToken = tokenizer(text)\n",
    "    for word in rawToken:\n",
    "        if word in positiveWordList:\n",
    "            numPosWords  += 1\n",
    "    \n",
    "    sumPos = numPosWords\n",
    "    return sumPos"
   ]
  },
  {
   "source": [
    "### Negative Words"
   ],
   "cell_type": "markdown",
   "metadata": {}
  },
  {
   "cell_type": "code",
   "execution_count": 14,
   "metadata": {},
   "outputs": [],
   "source": [
    "# Loading negative words\n",
    "\n",
    "with open(nagitiveWordsFile ,'r') as negfile:\n",
    "    negativeword=negfile.read().lower()\n",
    "negativeWordList=negativeword.split('\\n')"
   ]
  },
  {
   "cell_type": "code",
   "execution_count": 15,
   "metadata": {},
   "outputs": [],
   "source": [
    "# Calculating Negative score\n",
    "\n",
    "def negative_word(text):\n",
    "    numNegWords=0\n",
    "    rawToken = tokenizer(text)\n",
    "    for word in rawToken:\n",
    "        if word in negativeWordList:\n",
    "            numNegWords -=1\n",
    "    sumNeg = numNegWords \n",
    "    sumNeg = sumNeg * -1\n",
    "    return sumNeg"
   ]
  },
  {
   "source": [
    "### Polarity"
   ],
   "cell_type": "markdown",
   "metadata": {}
  },
  {
   "cell_type": "code",
   "execution_count": 16,
   "metadata": {},
   "outputs": [],
   "source": [
    "# Calculating polarity score\n",
    "\n",
    "def polarity_score(positiveScore, negativeScore):\n",
    "    pol_score = (positiveScore - negativeScore) / ((positiveScore + negativeScore) + 0.000001)\n",
    "    return pol_score"
   ]
  },
  {
   "source": [
    "## Section 2 -Analysis of Readability - Average Sentence Length, percentage of complex words, fog index"
   ],
   "cell_type": "markdown",
   "metadata": {}
  },
  {
   "cell_type": "code",
   "execution_count": 17,
   "metadata": {},
   "outputs": [],
   "source": [
    "# Calculating Average sentence length \n",
    "\n",
    "# It will calculated using formula --- Average Sentence Length = the number of words / the number of sentences\n",
    "     \n",
    "def average_sentence_length(text):\n",
    "    sentence_list = sent_tokenize(text)\n",
    "    tokens = tokenizer(text)\n",
    "    totalWordCount = len(tokens)\n",
    "    totalSentences = len(sentence_list)\n",
    "    average_sent = 0\n",
    "    if totalSentences != 0:\n",
    "        average_sent = totalWordCount / totalSentences\n",
    "    \n",
    "    average_sent_length= average_sent\n",
    "    \n",
    "    return round(average_sent_length)"
   ]
  },
  {
   "cell_type": "code",
   "execution_count": 18,
   "metadata": {},
   "outputs": [],
   "source": [
    "# Calculating percentage of complex word \n",
    "\n",
    "# It is calculated using Percentage of Complex words = the number of complex words / the number of words \n",
    "\n",
    "def percentage_complex_word(text):\n",
    "    tokens = tokenizer(text)\n",
    "    complexWord = 0\n",
    "    complex_word_percentage = 0\n",
    "    \n",
    "    for word in tokens:\n",
    "        vowels=0\n",
    "        if word.endswith(('es','ed')):\n",
    "            pass\n",
    "        else:\n",
    "            for w in word:\n",
    "                if(w=='a' or w=='e' or w=='i' or w=='o' or w=='u'):\n",
    "                    vowels += 1\n",
    "            if(vowels > 2):\n",
    "                complexWord += 1\n",
    "    if len(tokens) != 0:\n",
    "        complex_word_percentage = complexWord/len(tokens)\n",
    "    \n",
    "    return complex_word_percentage"
   ]
  },
  {
   "cell_type": "code",
   "execution_count": 19,
   "metadata": {},
   "outputs": [],
   "source": [
    "# calculating Fog Index \n",
    "\n",
    "# Fog index is calculated using -- Fog Index = 0.4 * (Average Sentence Length + Percentage of Complex words)\n",
    "\n",
    "def fog_index(averageSentenceLength, percentageComplexWord):\n",
    "    fogIndex = 0.4 * (averageSentenceLength + percentageComplexWord)\n",
    "    return fogIndex"
   ]
  },
  {
   "source": [
    "## Section 4: Complex word count"
   ],
   "cell_type": "markdown",
   "metadata": {}
  },
  {
   "cell_type": "code",
   "execution_count": 20,
   "metadata": {},
   "outputs": [],
   "source": [
    "# Counting complex words\n",
    "\n",
    "def complex_word_count(text):\n",
    "    tokens = tokenizer(text)\n",
    "    complexWord = 0\n",
    "    \n",
    "    for word in tokens:\n",
    "        vowels=0\n",
    "        if word.endswith(('es','ed')):\n",
    "            pass\n",
    "        else:\n",
    "            for w in word:\n",
    "                if(w=='a' or w=='e' or w=='i' or w=='o' or w=='u'):\n",
    "                    vowels += 1\n",
    "            if(vowels > 2):\n",
    "                complexWord += 1\n",
    "    return complexWord"
   ]
  },
  {
   "source": [
    "## Section 5: Word count"
   ],
   "cell_type": "markdown",
   "metadata": {}
  },
  {
   "cell_type": "code",
   "execution_count": 21,
   "metadata": {},
   "outputs": [],
   "source": [
    "#Counting total words\n",
    "\n",
    "def total_word_count(text):\n",
    "    tokens = tokenizer(text)\n",
    "    return len(tokens)"
   ]
  },
  {
   "cell_type": "code",
   "execution_count": 22,
   "metadata": {},
   "outputs": [],
   "source": [
    "# opening uncertainty file\n",
    "\n",
    "with open(uncertainty_dictionaryFile ,'r') as uncertain_dict:\n",
    "    uncertainDict=uncertain_dict.read().lower()\n",
    "uncertainDictionary = uncertainDict.split('\\n')"
   ]
  },
  {
   "cell_type": "code",
   "execution_count": 23,
   "metadata": {},
   "outputs": [],
   "source": [
    "# calculating uncertainty_score\n",
    "\n",
    "def uncertainty_score(text):\n",
    "    uncertainWordnum =0\n",
    "    rawToken = tokenizer(text)\n",
    "    for word in rawToken:\n",
    "        if word in uncertainDictionary:\n",
    "            uncertainWordnum +=1\n",
    "    sumUncertainityScore = uncertainWordnum \n",
    "    \n",
    "    return sumUncertainityScore"
   ]
  },
  {
   "cell_type": "code",
   "execution_count": 24,
   "metadata": {},
   "outputs": [],
   "source": [
    "# opening constraining file\n",
    "\n",
    "with open(constraining_dictionaryFile ,'r') as constraining_dict:\n",
    "    constrainDict=constraining_dict.read().lower()\n",
    "constrainDictionary = constrainDict.split('\\n')"
   ]
  },
  {
   "cell_type": "code",
   "execution_count": 25,
   "metadata": {},
   "outputs": [],
   "source": [
    "# calculating constraining score\n",
    "\n",
    "def constraining_score(text):\n",
    "    constrainWordnum =0\n",
    "    rawToken = tokenizer(text)\n",
    "    for word in rawToken:\n",
    "        if word in constrainDictionary:\n",
    "            constrainWordnum +=1\n",
    "    sumConstrainScore = constrainWordnum \n",
    "    \n",
    "    return sumConstrainScore"
   ]
  },
  {
   "cell_type": "code",
   "execution_count": 26,
   "metadata": {},
   "outputs": [],
   "source": [
    "# Calculating positive word proportion\n",
    "\n",
    "def positive_word_prop(positiveScore,wordcount):\n",
    "    positive_word_proportion = 0\n",
    "    if wordcount !=0:\n",
    "        positive_word_proportion = positiveScore / wordcount\n",
    "        \n",
    "    return positive_word_proportion"
   ]
  },
  {
   "cell_type": "code",
   "execution_count": 27,
   "metadata": {},
   "outputs": [],
   "source": [
    "# Calculating negative word proportion\n",
    "\n",
    "def negative_word_prop(negativeScore,wordcount):\n",
    "    negative_word_proportion = 0\n",
    "    if wordcount !=0:\n",
    "        negative_word_proportion = negativeScore / wordcount\n",
    "        \n",
    "    return negative_word_proportion"
   ]
  },
  {
   "cell_type": "code",
   "execution_count": 28,
   "metadata": {},
   "outputs": [],
   "source": [
    "# Calculating uncertain word proportion\n",
    "\n",
    "def uncertain_word_prop(uncertainScore,wordcount):\n",
    "    uncertain_word_proportion = 0\n",
    "    if wordcount !=0:\n",
    "        uncertain_word_proportion = uncertainScore / wordcount\n",
    "        \n",
    "    return uncertain_word_proportion"
   ]
  },
  {
   "cell_type": "code",
   "execution_count": 29,
   "metadata": {},
   "outputs": [],
   "source": [
    "# Calculating constraining word proportion\n",
    "\n",
    "def constraining_word_prop(constrainingScore,wordcount):\n",
    "    constraining_word_proportion = 0\n",
    "    if wordcount !=0:\n",
    "        constraining_word_proportion = constrainingScore / wordcount\n",
    "        \n",
    "    return constraining_word_proportion"
   ]
  },
  {
   "cell_type": "code",
   "execution_count": 30,
   "metadata": {},
   "outputs": [],
   "source": [
    "# calculating Constraining words for whole report\n",
    "\n",
    "def constrain_word_whole(mdaText,qqdmrText,rfText):\n",
    "    wholeDoc = mdaText + qqdmrText + rfText\n",
    "    constrainWordnumWhole =0\n",
    "    rawToken = tokenizer(wholeDoc)\n",
    "    for word in rawToken:\n",
    "        if word in constrainDictionary:\n",
    "            constrainWordnumWhole +=1\n",
    "    sumConstrainScoreWhole = constrainWordnumWhole \n",
    "    \n",
    "    return sumConstrainScoreWhole"
   ]
  },
  {
   "source": [
    "## Applying All Functions"
   ],
   "cell_type": "markdown",
   "metadata": {}
  },
  {
   "cell_type": "code",
   "execution_count": 31,
   "metadata": {},
   "outputs": [],
   "source": [
    "inputDirectory = 'D:/Work/Blackcoffer/Test1'\n",
    "masterFile = 'D:/Work/Blackcoffer/cik_list.xlsx'\n",
    "dataList = rawdata_extract( inputDirectory , masterFile )\n",
    "df = pd.DataFrame(dataList)\n",
    "\n",
    "df['mda_positive_score'] = df.mda_extract.apply(positive_score)\n",
    "df['mda_negative_score'] = df.mda_extract.apply(negative_word)\n",
    "df['mda_polarity_score'] = np.vectorize(polarity_score)(df['mda_positive_score'],df['mda_negative_score'])\n",
    "df['mda_average_sentence_length'] = df.mda_extract.apply(average_sentence_length)\n",
    "df['mda_percentage_of_complex_words'] = df.mda_extract.apply(percentage_complex_word)\n",
    "df['mda_fog_index'] = np.vectorize(fog_index)(df['mda_average_sentence_length'],df['mda_percentage_of_complex_words'])\n",
    "df['mda_complex_word_count']= df.mda_extract.apply(complex_word_count)\n",
    "df['mda_word_count'] = df.mda_extract.apply(total_word_count)\n",
    "df['mda_uncertainty_score']=df.mda_extract.apply(uncertainty_score)\n",
    "df['mda_constraining_score'] = df.mda_extract.apply(constraining_score)\n",
    "df['mda_positive_word_proportion'] = np.vectorize(positive_word_prop)(df['mda_positive_score'],df['mda_word_count'])\n",
    "df['mda_negative_word_proportion'] = np.vectorize(negative_word_prop)(df['mda_negative_score'],df['mda_word_count'])\n",
    "df['mda_uncertainty_word_proportion'] = np.vectorize(uncertain_word_prop)(df['mda_uncertainty_score'],df['mda_word_count'])\n",
    "df['mda_constraining_word_proportion'] = np.vectorize(constraining_word_prop)(df['mda_constraining_score'],df['mda_word_count'])\n",
    "\n",
    "df['qqdmr_positive_score'] = df.qqd_extract.apply(positive_score)\n",
    "df['qqdmr_negative_score'] = df.qqd_extract.apply(negative_word)\n",
    "df['qqdmr_polarity_score'] = np.vectorize(polarity_score)(df['qqdmr_positive_score'],df['qqdmr_negative_score'])\n",
    "df['qqdmr_average_sentence_length'] = df.qqd_extract.apply(average_sentence_length)\n",
    "df['qqdmr_percentage_of_complex_words'] = df.qqd_extract.apply(percentage_complex_word)\n",
    "df['qqdmr_fog_index'] = np.vectorize(fog_index)(df['qqdmr_average_sentence_length'],df['qqdmr_percentage_of_complex_words'])\n",
    "df['qqdmr_complex_word_count']= df.qqd_extract.apply(complex_word_count)\n",
    "df['qqdmr_word_count'] = df.qqd_extract.apply(total_word_count)\n",
    "df['qqdmr_uncertainty_score']=df.qqd_extract.apply(uncertainty_score)\n",
    "df['qqdmr_constraining_score'] = df.qqd_extract.apply(constraining_score)\n",
    "df['qqdmr_positive_word_proportion'] = np.vectorize(positive_word_prop)(df['qqdmr_positive_score'],df['qqdmr_word_count'])\n",
    "df['qqdmr_negative_word_proportion'] = np.vectorize(negative_word_prop)(df['qqdmr_negative_score'],df['qqdmr_word_count'])\n",
    "df['qqdmr_uncertainty_word_proportion'] = np.vectorize(uncertain_word_prop)(df['qqdmr_uncertainty_score'],df['qqdmr_word_count'])\n",
    "df['qqdmr_constraining_word_proportion'] = np.vectorize(constraining_word_prop)(df['qqdmr_constraining_score'],df['qqdmr_word_count'])\n",
    "\n",
    "df['rf_positive_score'] = df.riskfactor_extract.apply(positive_score)\n",
    "df['rf_negative_score'] = df.riskfactor_extract.apply(negative_word)\n",
    "df['rf_polarity_score'] = np.vectorize(polarity_score)(df['rf_positive_score'],df['rf_negative_score'])\n",
    "df['rf_average_sentence_length'] = df.riskfactor_extract.apply(average_sentence_length)\n",
    "df['rf_percentage_of_complex_words'] = df.riskfactor_extract.apply(percentage_complex_word)\n",
    "df['rf_fog_index'] = np.vectorize(fog_index)(df['rf_average_sentence_length'],df['rf_percentage_of_complex_words'])\n",
    "df['rf_complex_word_count']= df.riskfactor_extract.apply(complex_word_count)\n",
    "df['rf_word_count'] = df.riskfactor_extract.apply(total_word_count)\n",
    "df['rf_uncertainty_score']=df.riskfactor_extract.apply(uncertainty_score)\n",
    "df['rf_constraining_score'] = df.riskfactor_extract.apply(constraining_score)\n",
    "df['rf_positive_word_proportion'] = np.vectorize(positive_word_prop)(df['rf_positive_score'],df['rf_word_count'])\n",
    "df['rf_negative_word_proportion'] = np.vectorize(negative_word_prop)(df['rf_negative_score'],df['rf_word_count'])\n",
    "df['rf_uncertainty_word_proportion'] = np.vectorize(uncertain_word_prop)(df['rf_uncertainty_score'],df['rf_word_count'])\n",
    "df['rf_constraining_word_proportion'] = np.vectorize(constraining_word_prop)(df['rf_constraining_score'],df['rf_word_count'])\n",
    "\n",
    "df['constraining_words_whole_report'] = np.vectorize(constrain_word_whole)(df['mda_extract'],df['qqd_extract'],df['riskfactor_extract'])\n"
   ]
  },
  {
   "cell_type": "code",
   "execution_count": 32,
   "metadata": {},
   "outputs": [
    {
     "output_type": "execute_result",
     "data": {
      "text/plain": [
       "(152, 52)"
      ]
     },
     "metadata": {},
     "execution_count": 32
    }
   ],
   "source": [
    "df.shape"
   ]
  },
  {
   "source": [
    "## Final Output"
   ],
   "cell_type": "markdown",
   "metadata": {}
  },
  {
   "cell_type": "code",
   "execution_count": 33,
   "metadata": {},
   "outputs": [
    {
     "output_type": "execute_result",
     "data": {
      "text/plain": [
       "       CIK                      CONAME     FYRMO      FDATE     FORM  \\\n",
       "0   3662.0            SUNBEAM CORP/FL/  199803.0 1998-03-06  10-K405   \n",
       "1   3662.0            SUNBEAM CORP/FL/  199805.0 1998-05-15     10-Q   \n",
       "2   3662.0            SUNBEAM CORP/FL/  199808.0 1998-08-13  NT 10-Q   \n",
       "3   3662.0            SUNBEAM CORP/FL/  199811.0 1998-11-12   10-K/A   \n",
       "4   3662.0            SUNBEAM CORP/FL/  199811.0 1998-11-16  NT 10-Q   \n",
       "5   3662.0            SUNBEAM CORP/FL/  199811.0 1998-11-25   10-Q/A   \n",
       "6   3662.0            SUNBEAM CORP/FL/  199812.0 1998-12-22     10-Q   \n",
       "7   3662.0            SUNBEAM CORP/FL/  199812.0 1998-12-22     10-Q   \n",
       "8   3662.0            SUNBEAM CORP/FL/  199903.0 1999-03-31  NT 10-K   \n",
       "9   3662.0            SUNBEAM CORP/FL/  199905.0 1999-05-11     10-K   \n",
       "10  3662.0            SUNBEAM CORP/FL/  199905.0 1999-05-17  NT 10-Q   \n",
       "11  3662.0            SUNBEAM CORP/FL/  199906.0 1999-06-11     10-Q   \n",
       "12  3662.0            SUNBEAM CORP/FL/  199908.0 1999-08-16  NT 10-Q   \n",
       "13  3662.0            SUNBEAM CORP/FL/  199908.0 1999-08-19     10-Q   \n",
       "14  3662.0            SUNBEAM CORP/FL/  199911.0 1999-11-08   10-K/A   \n",
       "15  3662.0            SUNBEAM CORP/FL/  199911.0 1999-11-08   10-Q/A   \n",
       "16  3662.0            SUNBEAM CORP/FL/  199911.0 1999-11-08   10-Q/A   \n",
       "17  3662.0            SUNBEAM CORP/FL/  199911.0 1999-11-15  NT 10-Q   \n",
       "18  3662.0            SUNBEAM CORP/FL/  199911.0 1999-11-19     10-Q   \n",
       "19  3982.0  ALLIS CHALMERS ENERGY INC.  200603.0 2006-03-22     10-K   \n",
       "20  3982.0  ALLIS CHALMERS ENERGY INC.  200605.0 2006-05-01   10-K/A   \n",
       "21  3982.0  ALLIS CHALMERS ENERGY INC.  200605.0 2006-05-10     10-Q   \n",
       "22  3982.0  ALLIS CHALMERS ENERGY INC.  200607.0 2006-07-24   10-K/A   \n",
       "23  3982.0  ALLIS CHALMERS ENERGY INC.  200607.0 2006-07-24   10-Q/A   \n",
       "24  3982.0  ALLIS CHALMERS ENERGY INC.  200608.0 2006-08-14     10-Q   \n",
       "25  3982.0  ALLIS CHALMERS ENERGY INC.  200611.0 2006-11-08     10-Q   \n",
       "26  3982.0  ALLIS CHALMERS ENERGY INC.  200612.0 2006-12-29   10-Q/A   \n",
       "27  3982.0  ALLIS CHALMERS ENERGY INC.  200703.0 2007-03-15     10-K   \n",
       "28  3982.0  ALLIS CHALMERS ENERGY INC.  200705.0 2007-05-10     10-Q   \n",
       "29  3982.0  ALLIS CHALMERS ENERGY INC.  200708.0 2007-08-09     10-Q   \n",
       "30  3982.0  ALLIS CHALMERS ENERGY INC.  200711.0 2007-11-06     10-Q   \n",
       "31  3982.0  ALLIS CHALMERS ENERGY INC.  200803.0 2008-03-07     10-K   \n",
       "32  3982.0  ALLIS CHALMERS ENERGY INC.  200804.0 2008-04-29   10-K/A   \n",
       "33  4447.0           AMERADA HESS CORP  200311.0 2003-11-12     10-Q   \n",
       "34  4447.0           AMERADA HESS CORP  200403.0 2004-03-12     10-K   \n",
       "35  4447.0           AMERADA HESS CORP  200403.0 2004-03-15   10-K/A   \n",
       "36  4447.0           AMERADA HESS CORP  200405.0 2004-05-07     10-Q   \n",
       "37  4447.0           AMERADA HESS CORP  200408.0 2004-08-06     10-Q   \n",
       "38  4447.0           AMERADA HESS CORP  200411.0 2004-11-05     10-Q   \n",
       "39  4447.0           AMERADA HESS CORP  200503.0 2005-03-14     10-K   \n",
       "40  4447.0           AMERADA HESS CORP  200505.0 2005-05-06     10-Q   \n",
       "41  4447.0           AMERADA HESS CORP  200508.0 2005-08-05     10-Q   \n",
       "42  4447.0           AMERADA HESS CORP  200511.0 2005-11-07     10-Q   \n",
       "43  4457.0                 AMERCO /NV/  199911.0 1999-11-08     10-Q   \n",
       "44  4457.0                 AMERCO /NV/  200002.0 2000-02-10     10-Q   \n",
       "45  4457.0                 AMERCO /NV/  200006.0 2000-06-29     10-K   \n",
       "46  4457.0                 AMERCO /NV/  200008.0 2000-08-11     10-Q   \n",
       "47  4457.0                 AMERCO /NV/  200011.0 2000-11-13     10-Q   \n",
       "48  4457.0                 AMERCO /NV/  200102.0 2001-02-14     10-Q   \n",
       "49  4457.0                 AMERCO /NV/  200107.0 2001-07-02     10-K   \n",
       "\n",
       "                                    SECFNAME  mda_positive_score  \\\n",
       "0   edgar/data/3662/0000950170-98-000413.txt                  17   \n",
       "1   edgar/data/3662/0000950170-98-001001.txt                   9   \n",
       "2   edgar/data/3662/0000950172-98-000783.txt                   0   \n",
       "3   edgar/data/3662/0000950170-98-002145.txt                  41   \n",
       "4   edgar/data/3662/0000950172-98-001203.txt                   0   \n",
       "5   edgar/data/3662/0000950170-98-002278.txt                  19   \n",
       "6   edgar/data/3662/0000950170-98-002401.txt                  40   \n",
       "7   edgar/data/3662/0000950170-98-002402.txt                  38   \n",
       "8   edgar/data/3662/0000950172-99-000362.txt                   0   \n",
       "9   edgar/data/3662/0000950170-99-000775.txt                  71   \n",
       "10  edgar/data/3662/0000950172-99-000584.txt                   0   \n",
       "11  edgar/data/3662/0000950170-99-001005.txt                  31   \n",
       "12  edgar/data/3662/0000950172-99-001074.txt                   0   \n",
       "13  edgar/data/3662/0000950170-99-001361.txt                  67   \n",
       "14  edgar/data/3662/0000889812-99-003241.txt                   0   \n",
       "15  edgar/data/3662/0000950170-99-001639.txt                  69   \n",
       "16  edgar/data/3662/0000950170-99-001640.txt                  40   \n",
       "17  edgar/data/3662/0000950172-99-001626.txt                   0   \n",
       "18  edgar/data/3662/0000950170-99-001856.txt                  73   \n",
       "19  edgar/data/3982/0000950129-06-002926.txt                   0   \n",
       "20  edgar/data/3982/0000950129-06-004690.txt                   0   \n",
       "21  edgar/data/3982/0000950129-06-005244.txt                   0   \n",
       "22  edgar/data/3982/0000950129-06-007243.txt                   0   \n",
       "23  edgar/data/3982/0000950129-06-007244.txt                   0   \n",
       "24  edgar/data/3982/0000950129-06-007871.txt                   0   \n",
       "25  edgar/data/3982/0000950129-06-009522.txt                   0   \n",
       "26  edgar/data/3982/0000950134-06-023819.txt                   0   \n",
       "27  edgar/data/3982/0000950129-07-001381.txt                   0   \n",
       "28  edgar/data/3982/0000950129-07-002432.txt                   0   \n",
       "29  edgar/data/3982/0000950129-07-003918.txt                   0   \n",
       "30  edgar/data/3982/0000950129-07-005361.txt                   0   \n",
       "31  edgar/data/3982/0000950129-08-001569.txt                   0   \n",
       "32  edgar/data/3982/0000950129-08-002507.txt                   0   \n",
       "33  edgar/data/4447/0000950123-03-012528.txt                   0   \n",
       "34  edgar/data/4447/0000950123-04-003250.txt                   0   \n",
       "35  edgar/data/4447/0000950123-04-003322.txt                   0   \n",
       "36  edgar/data/4447/0000950123-04-005950.txt                   0   \n",
       "37  edgar/data/4447/0000950123-04-009350.txt                   0   \n",
       "38  edgar/data/4447/0000950123-04-013054.txt                   0   \n",
       "39  edgar/data/4447/0000950123-05-003078.txt                   0   \n",
       "40  edgar/data/4447/0000950123-05-005767.txt                   0   \n",
       "41  edgar/data/4447/0000950123-05-009475.txt                   0   \n",
       "42  edgar/data/4447/0000950123-05-013153.txt                   0   \n",
       "43  edgar/data/4457/0000004457-99-000043.txt                  12   \n",
       "44  edgar/data/4457/0000004457-00-000018.txt                  10   \n",
       "45  edgar/data/4457/0000004457-00-000067.txt                   0   \n",
       "46  edgar/data/4457/0000004457-00-000080.txt                   9   \n",
       "47  edgar/data/4457/0000004457-00-000105.txt                   7   \n",
       "48  edgar/data/4457/0000004457-01-500024.txt                   7   \n",
       "49  edgar/data/4457/0000004457-01-500063.txt                  17   \n",
       "\n",
       "    mda_negative_score  mda_polarity_score  mda_average_sentence_length  ...  \\\n",
       "0                   61           -0.564103                           24  ...   \n",
       "1                   46           -0.672727                           30  ...   \n",
       "2                    0            0.000000                            0  ...   \n",
       "3                  119           -0.487500                           23  ...   \n",
       "4                    0            0.000000                            0  ...   \n",
       "5                   63           -0.536585                           23  ...   \n",
       "6                  106           -0.452055                           22  ...   \n",
       "7                  102           -0.457143                           22  ...   \n",
       "8                    0            0.000000                            0  ...   \n",
       "9                  270           -0.583578                           23  ...   \n",
       "10                   0            0.000000                            0  ...   \n",
       "11                  60           -0.318681                           23  ...   \n",
       "12                   0            0.000000                            0  ...   \n",
       "13                 129           -0.316327                           21  ...   \n",
       "14                   0            0.000000                           21  ...   \n",
       "15                 144           -0.352113                           21  ...   \n",
       "16                 127           -0.520958                           24  ...   \n",
       "17                   0            0.000000                            0  ...   \n",
       "18                 154           -0.356828                           23  ...   \n",
       "19                   0            0.000000                            0  ...   \n",
       "20                   0            0.000000                            0  ...   \n",
       "21                   0            0.000000                            0  ...   \n",
       "22                   0            0.000000                            0  ...   \n",
       "23                   0            0.000000                            0  ...   \n",
       "24                   0            0.000000                            0  ...   \n",
       "25                   0            0.000000                            0  ...   \n",
       "26                   0            0.000000                            0  ...   \n",
       "27                   0            0.000000                            0  ...   \n",
       "28                   0            0.000000                            0  ...   \n",
       "29                   0            0.000000                            0  ...   \n",
       "30                   0            0.000000                            0  ...   \n",
       "31                   0            0.000000                            0  ...   \n",
       "32                   0            0.000000                            0  ...   \n",
       "33                   0            0.000000                            0  ...   \n",
       "34                   0            0.000000                            0  ...   \n",
       "35                   0            0.000000                            0  ...   \n",
       "36                   0            0.000000                            0  ...   \n",
       "37                   0            0.000000                            0  ...   \n",
       "38                   0            0.000000                            0  ...   \n",
       "39                   0            0.000000                            0  ...   \n",
       "40                   0            0.000000                            0  ...   \n",
       "41                   0            0.000000                            0  ...   \n",
       "42                   0            0.000000                            0  ...   \n",
       "43                  60           -0.666667                           17  ...   \n",
       "44                  46           -0.642857                           18  ...   \n",
       "45                   1           -0.999999                           14  ...   \n",
       "46                  35           -0.590909                           19  ...   \n",
       "47                  22           -0.517241                           17  ...   \n",
       "48                  31           -0.631579                           16  ...   \n",
       "49                  57           -0.540541                           20  ...   \n",
       "\n",
       "    rf_fog_index  rf_complex_word_count  rf_word_count  rf_uncertainty_score  \\\n",
       "0       0.000000                      0              0                     0   \n",
       "1       0.000000                      0              0                     0   \n",
       "2       0.000000                      0              0                     0   \n",
       "3       0.000000                      0              0                     0   \n",
       "4       0.000000                      0              0                     0   \n",
       "5       0.000000                      0              0                     0   \n",
       "6       0.000000                      0              0                     0   \n",
       "7       0.000000                      0              0                     0   \n",
       "8       0.000000                      0              0                     0   \n",
       "9       0.000000                      0              0                     0   \n",
       "10      0.000000                      0              0                     0   \n",
       "11      0.000000                      0              0                     0   \n",
       "12      0.000000                      0              0                     0   \n",
       "13      0.000000                      0              0                     0   \n",
       "14      0.000000                      0              0                     0   \n",
       "15      0.000000                      0              0                     0   \n",
       "16      0.000000                      0              0                     0   \n",
       "17      0.000000                      0              0                     0   \n",
       "18      0.000000                      0              0                     0   \n",
       "19      0.000000                      0              0                     0   \n",
       "20      0.000000                      0              0                     0   \n",
       "21      0.000000                      0              0                     0   \n",
       "22      0.000000                      0              0                     0   \n",
       "23      0.000000                      0              0                     0   \n",
       "24      0.000000                      0              0                     0   \n",
       "25     11.387751                    958           2041                   106   \n",
       "26      0.000000                      0              0                     0   \n",
       "27      7.350471                   2514           6683                    79   \n",
       "28      4.978723                     21             47                     1   \n",
       "29      4.983333                     22             48                     1   \n",
       "30      4.983333                     22             48                     1   \n",
       "31      7.350541                   2785           7400                    94   \n",
       "32      0.000000                      0              0                     0   \n",
       "33      0.000000                      0              0                     0   \n",
       "34      0.000000                      0              0                     0   \n",
       "35      0.000000                      0              0                     0   \n",
       "36      0.000000                      0              0                     0   \n",
       "37      0.000000                      0              0                     0   \n",
       "38      0.000000                      0              0                     0   \n",
       "39      0.000000                      0              0                     0   \n",
       "40      0.000000                      0              0                     0   \n",
       "41      0.000000                      0              0                     0   \n",
       "42      0.000000                      0              0                     0   \n",
       "43      0.000000                      0              0                     0   \n",
       "44      0.000000                      0              0                     0   \n",
       "45      0.000000                      0              0                     0   \n",
       "46      0.000000                      0              0                     0   \n",
       "47      0.000000                      0              0                     0   \n",
       "48      0.000000                      0              0                     0   \n",
       "49      0.000000                      0              0                     0   \n",
       "\n",
       "    rf_constraining_score  rf_positive_word_proportion  \\\n",
       "0                       0                            0   \n",
       "1                       0                            0   \n",
       "2                       0                            0   \n",
       "3                       0                            0   \n",
       "4                       0                            0   \n",
       "5                       0                            0   \n",
       "6                       0                            0   \n",
       "7                       0                            0   \n",
       "8                       0                            0   \n",
       "9                       0                            0   \n",
       "10                      0                            0   \n",
       "11                      0                            0   \n",
       "12                      0                            0   \n",
       "13                      0                            0   \n",
       "14                      0                            0   \n",
       "15                      0                            0   \n",
       "16                      0                            0   \n",
       "17                      0                            0   \n",
       "18                      0                            0   \n",
       "19                      0                            0   \n",
       "20                      0                            0   \n",
       "21                      0                            0   \n",
       "22                      0                            0   \n",
       "23                      0                            0   \n",
       "24                      0                            0   \n",
       "25                     40                            0   \n",
       "26                      0                            0   \n",
       "27                     50                            0   \n",
       "28                      1                            0   \n",
       "29                      1                            0   \n",
       "30                      1                            0   \n",
       "31                     63                            0   \n",
       "32                      0                            0   \n",
       "33                      0                            0   \n",
       "34                      0                            0   \n",
       "35                      0                            0   \n",
       "36                      0                            0   \n",
       "37                      0                            0   \n",
       "38                      0                            0   \n",
       "39                      0                            0   \n",
       "40                      0                            0   \n",
       "41                      0                            0   \n",
       "42                      0                            0   \n",
       "43                      0                            0   \n",
       "44                      0                            0   \n",
       "45                      0                            0   \n",
       "46                      0                            0   \n",
       "47                      0                            0   \n",
       "48                      0                            0   \n",
       "49                      0                            0   \n",
       "\n",
       "    rf_negative_word_proportion  rf_uncertainty_word_proportion  \\\n",
       "0                             0                               0   \n",
       "1                             0                               0   \n",
       "2                             0                               0   \n",
       "3                             0                               0   \n",
       "4                             0                               0   \n",
       "5                             0                               0   \n",
       "6                             0                               0   \n",
       "7                             0                               0   \n",
       "8                             0                               0   \n",
       "9                             0                               0   \n",
       "10                            0                               0   \n",
       "11                            0                               0   \n",
       "12                            0                               0   \n",
       "13                            0                               0   \n",
       "14                            0                               0   \n",
       "15                            0                               0   \n",
       "16                            0                               0   \n",
       "17                            0                               0   \n",
       "18                            0                               0   \n",
       "19                            0                               0   \n",
       "20                            0                               0   \n",
       "21                            0                               0   \n",
       "22                            0                               0   \n",
       "23                            0                               0   \n",
       "24                            0                               0   \n",
       "25                            0                               0   \n",
       "26                            0                               0   \n",
       "27                            0                               0   \n",
       "28                            0                               0   \n",
       "29                            0                               0   \n",
       "30                            0                               0   \n",
       "31                            0                               0   \n",
       "32                            0                               0   \n",
       "33                            0                               0   \n",
       "34                            0                               0   \n",
       "35                            0                               0   \n",
       "36                            0                               0   \n",
       "37                            0                               0   \n",
       "38                            0                               0   \n",
       "39                            0                               0   \n",
       "40                            0                               0   \n",
       "41                            0                               0   \n",
       "42                            0                               0   \n",
       "43                            0                               0   \n",
       "44                            0                               0   \n",
       "45                            0                               0   \n",
       "46                            0                               0   \n",
       "47                            0                               0   \n",
       "48                            0                               0   \n",
       "49                            0                               0   \n",
       "\n",
       "    rf_constraining_word_proportion  constraining_words_whole_report  \n",
       "0                                 0                               10  \n",
       "1                                 0                                2  \n",
       "2                                 0                                0  \n",
       "3                                 0                               39  \n",
       "4                                 0                                0  \n",
       "5                                 0                               23  \n",
       "6                                 0                               34  \n",
       "7                                 0                               32  \n",
       "8                                 0                                0  \n",
       "9                                 0                               74  \n",
       "10                                0                                0  \n",
       "11                                0                               29  \n",
       "12                                0                                0  \n",
       "13                                0                               51  \n",
       "14                                0                                0  \n",
       "15                                0                               59  \n",
       "16                                0                               48  \n",
       "17                                0                                0  \n",
       "18                                0                               59  \n",
       "19                                0                                0  \n",
       "20                                0                                0  \n",
       "21                                0                                0  \n",
       "22                                0                                0  \n",
       "23                                0                                0  \n",
       "24                                0                                0  \n",
       "25                                0                               40  \n",
       "26                                0                                0  \n",
       "27                                0                               50  \n",
       "28                                0                                1  \n",
       "29                                0                                1  \n",
       "30                                0                                1  \n",
       "31                                0                               63  \n",
       "32                                0                                0  \n",
       "33                                0                                0  \n",
       "34                                0                                0  \n",
       "35                                0                                0  \n",
       "36                                0                                1  \n",
       "37                                0                                1  \n",
       "38                                0                                1  \n",
       "39                                0                                0  \n",
       "40                                0                                1  \n",
       "41                                0                                1  \n",
       "42                                0                                1  \n",
       "43                                0                               16  \n",
       "44                                0                               14  \n",
       "45                                0                                1  \n",
       "46                                0                               11  \n",
       "47                                0                                7  \n",
       "48                                0                                7  \n",
       "49                                0                               14  \n",
       "\n",
       "[50 rows x 49 columns]"
      ],
      "text/html": "<div>\n<style scoped>\n    .dataframe tbody tr th:only-of-type {\n        vertical-align: middle;\n    }\n\n    .dataframe tbody tr th {\n        vertical-align: top;\n    }\n\n    .dataframe thead th {\n        text-align: right;\n    }\n</style>\n<table border=\"1\" class=\"dataframe\">\n  <thead>\n    <tr style=\"text-align: right;\">\n      <th></th>\n      <th>CIK</th>\n      <th>CONAME</th>\n      <th>FYRMO</th>\n      <th>FDATE</th>\n      <th>FORM</th>\n      <th>SECFNAME</th>\n      <th>mda_positive_score</th>\n      <th>mda_negative_score</th>\n      <th>mda_polarity_score</th>\n      <th>mda_average_sentence_length</th>\n      <th>...</th>\n      <th>rf_fog_index</th>\n      <th>rf_complex_word_count</th>\n      <th>rf_word_count</th>\n      <th>rf_uncertainty_score</th>\n      <th>rf_constraining_score</th>\n      <th>rf_positive_word_proportion</th>\n      <th>rf_negative_word_proportion</th>\n      <th>rf_uncertainty_word_proportion</th>\n      <th>rf_constraining_word_proportion</th>\n      <th>constraining_words_whole_report</th>\n    </tr>\n  </thead>\n  <tbody>\n    <tr>\n      <th>0</th>\n      <td>3662.0</td>\n      <td>SUNBEAM CORP/FL/</td>\n      <td>199803.0</td>\n      <td>1998-03-06</td>\n      <td>10-K405</td>\n      <td>edgar/data/3662/0000950170-98-000413.txt</td>\n      <td>17</td>\n      <td>61</td>\n      <td>-0.564103</td>\n      <td>24</td>\n      <td>...</td>\n      <td>0.000000</td>\n      <td>0</td>\n      <td>0</td>\n      <td>0</td>\n      <td>0</td>\n      <td>0</td>\n      <td>0</td>\n      <td>0</td>\n      <td>0</td>\n      <td>10</td>\n    </tr>\n    <tr>\n      <th>1</th>\n      <td>3662.0</td>\n      <td>SUNBEAM CORP/FL/</td>\n      <td>199805.0</td>\n      <td>1998-05-15</td>\n      <td>10-Q</td>\n      <td>edgar/data/3662/0000950170-98-001001.txt</td>\n      <td>9</td>\n      <td>46</td>\n      <td>-0.672727</td>\n      <td>30</td>\n      <td>...</td>\n      <td>0.000000</td>\n      <td>0</td>\n      <td>0</td>\n      <td>0</td>\n      <td>0</td>\n      <td>0</td>\n      <td>0</td>\n      <td>0</td>\n      <td>0</td>\n      <td>2</td>\n    </tr>\n    <tr>\n      <th>2</th>\n      <td>3662.0</td>\n      <td>SUNBEAM CORP/FL/</td>\n      <td>199808.0</td>\n      <td>1998-08-13</td>\n      <td>NT 10-Q</td>\n      <td>edgar/data/3662/0000950172-98-000783.txt</td>\n      <td>0</td>\n      <td>0</td>\n      <td>0.000000</td>\n      <td>0</td>\n      <td>...</td>\n      <td>0.000000</td>\n      <td>0</td>\n      <td>0</td>\n      <td>0</td>\n      <td>0</td>\n      <td>0</td>\n      <td>0</td>\n      <td>0</td>\n      <td>0</td>\n      <td>0</td>\n    </tr>\n    <tr>\n      <th>3</th>\n      <td>3662.0</td>\n      <td>SUNBEAM CORP/FL/</td>\n      <td>199811.0</td>\n      <td>1998-11-12</td>\n      <td>10-K/A</td>\n      <td>edgar/data/3662/0000950170-98-002145.txt</td>\n      <td>41</td>\n      <td>119</td>\n      <td>-0.487500</td>\n      <td>23</td>\n      <td>...</td>\n      <td>0.000000</td>\n      <td>0</td>\n      <td>0</td>\n      <td>0</td>\n      <td>0</td>\n      <td>0</td>\n      <td>0</td>\n      <td>0</td>\n      <td>0</td>\n      <td>39</td>\n    </tr>\n    <tr>\n      <th>4</th>\n      <td>3662.0</td>\n      <td>SUNBEAM CORP/FL/</td>\n      <td>199811.0</td>\n      <td>1998-11-16</td>\n      <td>NT 10-Q</td>\n      <td>edgar/data/3662/0000950172-98-001203.txt</td>\n      <td>0</td>\n      <td>0</td>\n      <td>0.000000</td>\n      <td>0</td>\n      <td>...</td>\n      <td>0.000000</td>\n      <td>0</td>\n      <td>0</td>\n      <td>0</td>\n      <td>0</td>\n      <td>0</td>\n      <td>0</td>\n      <td>0</td>\n      <td>0</td>\n      <td>0</td>\n    </tr>\n    <tr>\n      <th>5</th>\n      <td>3662.0</td>\n      <td>SUNBEAM CORP/FL/</td>\n      <td>199811.0</td>\n      <td>1998-11-25</td>\n      <td>10-Q/A</td>\n      <td>edgar/data/3662/0000950170-98-002278.txt</td>\n      <td>19</td>\n      <td>63</td>\n      <td>-0.536585</td>\n      <td>23</td>\n      <td>...</td>\n      <td>0.000000</td>\n      <td>0</td>\n      <td>0</td>\n      <td>0</td>\n      <td>0</td>\n      <td>0</td>\n      <td>0</td>\n      <td>0</td>\n      <td>0</td>\n      <td>23</td>\n    </tr>\n    <tr>\n      <th>6</th>\n      <td>3662.0</td>\n      <td>SUNBEAM CORP/FL/</td>\n      <td>199812.0</td>\n      <td>1998-12-22</td>\n      <td>10-Q</td>\n      <td>edgar/data/3662/0000950170-98-002401.txt</td>\n      <td>40</td>\n      <td>106</td>\n      <td>-0.452055</td>\n      <td>22</td>\n      <td>...</td>\n      <td>0.000000</td>\n      <td>0</td>\n      <td>0</td>\n      <td>0</td>\n      <td>0</td>\n      <td>0</td>\n      <td>0</td>\n      <td>0</td>\n      <td>0</td>\n      <td>34</td>\n    </tr>\n    <tr>\n      <th>7</th>\n      <td>3662.0</td>\n      <td>SUNBEAM CORP/FL/</td>\n      <td>199812.0</td>\n      <td>1998-12-22</td>\n      <td>10-Q</td>\n      <td>edgar/data/3662/0000950170-98-002402.txt</td>\n      <td>38</td>\n      <td>102</td>\n      <td>-0.457143</td>\n      <td>22</td>\n      <td>...</td>\n      <td>0.000000</td>\n      <td>0</td>\n      <td>0</td>\n      <td>0</td>\n      <td>0</td>\n      <td>0</td>\n      <td>0</td>\n      <td>0</td>\n      <td>0</td>\n      <td>32</td>\n    </tr>\n    <tr>\n      <th>8</th>\n      <td>3662.0</td>\n      <td>SUNBEAM CORP/FL/</td>\n      <td>199903.0</td>\n      <td>1999-03-31</td>\n      <td>NT 10-K</td>\n      <td>edgar/data/3662/0000950172-99-000362.txt</td>\n      <td>0</td>\n      <td>0</td>\n      <td>0.000000</td>\n      <td>0</td>\n      <td>...</td>\n      <td>0.000000</td>\n      <td>0</td>\n      <td>0</td>\n      <td>0</td>\n      <td>0</td>\n      <td>0</td>\n      <td>0</td>\n      <td>0</td>\n      <td>0</td>\n      <td>0</td>\n    </tr>\n    <tr>\n      <th>9</th>\n      <td>3662.0</td>\n      <td>SUNBEAM CORP/FL/</td>\n      <td>199905.0</td>\n      <td>1999-05-11</td>\n      <td>10-K</td>\n      <td>edgar/data/3662/0000950170-99-000775.txt</td>\n      <td>71</td>\n      <td>270</td>\n      <td>-0.583578</td>\n      <td>23</td>\n      <td>...</td>\n      <td>0.000000</td>\n      <td>0</td>\n      <td>0</td>\n      <td>0</td>\n      <td>0</td>\n      <td>0</td>\n      <td>0</td>\n      <td>0</td>\n      <td>0</td>\n      <td>74</td>\n    </tr>\n    <tr>\n      <th>10</th>\n      <td>3662.0</td>\n      <td>SUNBEAM CORP/FL/</td>\n      <td>199905.0</td>\n      <td>1999-05-17</td>\n      <td>NT 10-Q</td>\n      <td>edgar/data/3662/0000950172-99-000584.txt</td>\n      <td>0</td>\n      <td>0</td>\n      <td>0.000000</td>\n      <td>0</td>\n      <td>...</td>\n      <td>0.000000</td>\n      <td>0</td>\n      <td>0</td>\n      <td>0</td>\n      <td>0</td>\n      <td>0</td>\n      <td>0</td>\n      <td>0</td>\n      <td>0</td>\n      <td>0</td>\n    </tr>\n    <tr>\n      <th>11</th>\n      <td>3662.0</td>\n      <td>SUNBEAM CORP/FL/</td>\n      <td>199906.0</td>\n      <td>1999-06-11</td>\n      <td>10-Q</td>\n      <td>edgar/data/3662/0000950170-99-001005.txt</td>\n      <td>31</td>\n      <td>60</td>\n      <td>-0.318681</td>\n      <td>23</td>\n      <td>...</td>\n      <td>0.000000</td>\n      <td>0</td>\n      <td>0</td>\n      <td>0</td>\n      <td>0</td>\n      <td>0</td>\n      <td>0</td>\n      <td>0</td>\n      <td>0</td>\n      <td>29</td>\n    </tr>\n    <tr>\n      <th>12</th>\n      <td>3662.0</td>\n      <td>SUNBEAM CORP/FL/</td>\n      <td>199908.0</td>\n      <td>1999-08-16</td>\n      <td>NT 10-Q</td>\n      <td>edgar/data/3662/0000950172-99-001074.txt</td>\n      <td>0</td>\n      <td>0</td>\n      <td>0.000000</td>\n      <td>0</td>\n      <td>...</td>\n      <td>0.000000</td>\n      <td>0</td>\n      <td>0</td>\n      <td>0</td>\n      <td>0</td>\n      <td>0</td>\n      <td>0</td>\n      <td>0</td>\n      <td>0</td>\n      <td>0</td>\n    </tr>\n    <tr>\n      <th>13</th>\n      <td>3662.0</td>\n      <td>SUNBEAM CORP/FL/</td>\n      <td>199908.0</td>\n      <td>1999-08-19</td>\n      <td>10-Q</td>\n      <td>edgar/data/3662/0000950170-99-001361.txt</td>\n      <td>67</td>\n      <td>129</td>\n      <td>-0.316327</td>\n      <td>21</td>\n      <td>...</td>\n      <td>0.000000</td>\n      <td>0</td>\n      <td>0</td>\n      <td>0</td>\n      <td>0</td>\n      <td>0</td>\n      <td>0</td>\n      <td>0</td>\n      <td>0</td>\n      <td>51</td>\n    </tr>\n    <tr>\n      <th>14</th>\n      <td>3662.0</td>\n      <td>SUNBEAM CORP/FL/</td>\n      <td>199911.0</td>\n      <td>1999-11-08</td>\n      <td>10-K/A</td>\n      <td>edgar/data/3662/0000889812-99-003241.txt</td>\n      <td>0</td>\n      <td>0</td>\n      <td>0.000000</td>\n      <td>21</td>\n      <td>...</td>\n      <td>0.000000</td>\n      <td>0</td>\n      <td>0</td>\n      <td>0</td>\n      <td>0</td>\n      <td>0</td>\n      <td>0</td>\n      <td>0</td>\n      <td>0</td>\n      <td>0</td>\n    </tr>\n    <tr>\n      <th>15</th>\n      <td>3662.0</td>\n      <td>SUNBEAM CORP/FL/</td>\n      <td>199911.0</td>\n      <td>1999-11-08</td>\n      <td>10-Q/A</td>\n      <td>edgar/data/3662/0000950170-99-001639.txt</td>\n      <td>69</td>\n      <td>144</td>\n      <td>-0.352113</td>\n      <td>21</td>\n      <td>...</td>\n      <td>0.000000</td>\n      <td>0</td>\n      <td>0</td>\n      <td>0</td>\n      <td>0</td>\n      <td>0</td>\n      <td>0</td>\n      <td>0</td>\n      <td>0</td>\n      <td>59</td>\n    </tr>\n    <tr>\n      <th>16</th>\n      <td>3662.0</td>\n      <td>SUNBEAM CORP/FL/</td>\n      <td>199911.0</td>\n      <td>1999-11-08</td>\n      <td>10-Q/A</td>\n      <td>edgar/data/3662/0000950170-99-001640.txt</td>\n      <td>40</td>\n      <td>127</td>\n      <td>-0.520958</td>\n      <td>24</td>\n      <td>...</td>\n      <td>0.000000</td>\n      <td>0</td>\n      <td>0</td>\n      <td>0</td>\n      <td>0</td>\n      <td>0</td>\n      <td>0</td>\n      <td>0</td>\n      <td>0</td>\n      <td>48</td>\n    </tr>\n    <tr>\n      <th>17</th>\n      <td>3662.0</td>\n      <td>SUNBEAM CORP/FL/</td>\n      <td>199911.0</td>\n      <td>1999-11-15</td>\n      <td>NT 10-Q</td>\n      <td>edgar/data/3662/0000950172-99-001626.txt</td>\n      <td>0</td>\n      <td>0</td>\n      <td>0.000000</td>\n      <td>0</td>\n      <td>...</td>\n      <td>0.000000</td>\n      <td>0</td>\n      <td>0</td>\n      <td>0</td>\n      <td>0</td>\n      <td>0</td>\n      <td>0</td>\n      <td>0</td>\n      <td>0</td>\n      <td>0</td>\n    </tr>\n    <tr>\n      <th>18</th>\n      <td>3662.0</td>\n      <td>SUNBEAM CORP/FL/</td>\n      <td>199911.0</td>\n      <td>1999-11-19</td>\n      <td>10-Q</td>\n      <td>edgar/data/3662/0000950170-99-001856.txt</td>\n      <td>73</td>\n      <td>154</td>\n      <td>-0.356828</td>\n      <td>23</td>\n      <td>...</td>\n      <td>0.000000</td>\n      <td>0</td>\n      <td>0</td>\n      <td>0</td>\n      <td>0</td>\n      <td>0</td>\n      <td>0</td>\n      <td>0</td>\n      <td>0</td>\n      <td>59</td>\n    </tr>\n    <tr>\n      <th>19</th>\n      <td>3982.0</td>\n      <td>ALLIS CHALMERS ENERGY INC.</td>\n      <td>200603.0</td>\n      <td>2006-03-22</td>\n      <td>10-K</td>\n      <td>edgar/data/3982/0000950129-06-002926.txt</td>\n      <td>0</td>\n      <td>0</td>\n      <td>0.000000</td>\n      <td>0</td>\n      <td>...</td>\n      <td>0.000000</td>\n      <td>0</td>\n      <td>0</td>\n      <td>0</td>\n      <td>0</td>\n      <td>0</td>\n      <td>0</td>\n      <td>0</td>\n      <td>0</td>\n      <td>0</td>\n    </tr>\n    <tr>\n      <th>20</th>\n      <td>3982.0</td>\n      <td>ALLIS CHALMERS ENERGY INC.</td>\n      <td>200605.0</td>\n      <td>2006-05-01</td>\n      <td>10-K/A</td>\n      <td>edgar/data/3982/0000950129-06-004690.txt</td>\n      <td>0</td>\n      <td>0</td>\n      <td>0.000000</td>\n      <td>0</td>\n      <td>...</td>\n      <td>0.000000</td>\n      <td>0</td>\n      <td>0</td>\n      <td>0</td>\n      <td>0</td>\n      <td>0</td>\n      <td>0</td>\n      <td>0</td>\n      <td>0</td>\n      <td>0</td>\n    </tr>\n    <tr>\n      <th>21</th>\n      <td>3982.0</td>\n      <td>ALLIS CHALMERS ENERGY INC.</td>\n      <td>200605.0</td>\n      <td>2006-05-10</td>\n      <td>10-Q</td>\n      <td>edgar/data/3982/0000950129-06-005244.txt</td>\n      <td>0</td>\n      <td>0</td>\n      <td>0.000000</td>\n      <td>0</td>\n      <td>...</td>\n      <td>0.000000</td>\n      <td>0</td>\n      <td>0</td>\n      <td>0</td>\n      <td>0</td>\n      <td>0</td>\n      <td>0</td>\n      <td>0</td>\n      <td>0</td>\n      <td>0</td>\n    </tr>\n    <tr>\n      <th>22</th>\n      <td>3982.0</td>\n      <td>ALLIS CHALMERS ENERGY INC.</td>\n      <td>200607.0</td>\n      <td>2006-07-24</td>\n      <td>10-K/A</td>\n      <td>edgar/data/3982/0000950129-06-007243.txt</td>\n      <td>0</td>\n      <td>0</td>\n      <td>0.000000</td>\n      <td>0</td>\n      <td>...</td>\n      <td>0.000000</td>\n      <td>0</td>\n      <td>0</td>\n      <td>0</td>\n      <td>0</td>\n      <td>0</td>\n      <td>0</td>\n      <td>0</td>\n      <td>0</td>\n      <td>0</td>\n    </tr>\n    <tr>\n      <th>23</th>\n      <td>3982.0</td>\n      <td>ALLIS CHALMERS ENERGY INC.</td>\n      <td>200607.0</td>\n      <td>2006-07-24</td>\n      <td>10-Q/A</td>\n      <td>edgar/data/3982/0000950129-06-007244.txt</td>\n      <td>0</td>\n      <td>0</td>\n      <td>0.000000</td>\n      <td>0</td>\n      <td>...</td>\n      <td>0.000000</td>\n      <td>0</td>\n      <td>0</td>\n      <td>0</td>\n      <td>0</td>\n      <td>0</td>\n      <td>0</td>\n      <td>0</td>\n      <td>0</td>\n      <td>0</td>\n    </tr>\n    <tr>\n      <th>24</th>\n      <td>3982.0</td>\n      <td>ALLIS CHALMERS ENERGY INC.</td>\n      <td>200608.0</td>\n      <td>2006-08-14</td>\n      <td>10-Q</td>\n      <td>edgar/data/3982/0000950129-06-007871.txt</td>\n      <td>0</td>\n      <td>0</td>\n      <td>0.000000</td>\n      <td>0</td>\n      <td>...</td>\n      <td>0.000000</td>\n      <td>0</td>\n      <td>0</td>\n      <td>0</td>\n      <td>0</td>\n      <td>0</td>\n      <td>0</td>\n      <td>0</td>\n      <td>0</td>\n      <td>0</td>\n    </tr>\n    <tr>\n      <th>25</th>\n      <td>3982.0</td>\n      <td>ALLIS CHALMERS ENERGY INC.</td>\n      <td>200611.0</td>\n      <td>2006-11-08</td>\n      <td>10-Q</td>\n      <td>edgar/data/3982/0000950129-06-009522.txt</td>\n      <td>0</td>\n      <td>0</td>\n      <td>0.000000</td>\n      <td>0</td>\n      <td>...</td>\n      <td>11.387751</td>\n      <td>958</td>\n      <td>2041</td>\n      <td>106</td>\n      <td>40</td>\n      <td>0</td>\n      <td>0</td>\n      <td>0</td>\n      <td>0</td>\n      <td>40</td>\n    </tr>\n    <tr>\n      <th>26</th>\n      <td>3982.0</td>\n      <td>ALLIS CHALMERS ENERGY INC.</td>\n      <td>200612.0</td>\n      <td>2006-12-29</td>\n      <td>10-Q/A</td>\n      <td>edgar/data/3982/0000950134-06-023819.txt</td>\n      <td>0</td>\n      <td>0</td>\n      <td>0.000000</td>\n      <td>0</td>\n      <td>...</td>\n      <td>0.000000</td>\n      <td>0</td>\n      <td>0</td>\n      <td>0</td>\n      <td>0</td>\n      <td>0</td>\n      <td>0</td>\n      <td>0</td>\n      <td>0</td>\n      <td>0</td>\n    </tr>\n    <tr>\n      <th>27</th>\n      <td>3982.0</td>\n      <td>ALLIS CHALMERS ENERGY INC.</td>\n      <td>200703.0</td>\n      <td>2007-03-15</td>\n      <td>10-K</td>\n      <td>edgar/data/3982/0000950129-07-001381.txt</td>\n      <td>0</td>\n      <td>0</td>\n      <td>0.000000</td>\n      <td>0</td>\n      <td>...</td>\n      <td>7.350471</td>\n      <td>2514</td>\n      <td>6683</td>\n      <td>79</td>\n      <td>50</td>\n      <td>0</td>\n      <td>0</td>\n      <td>0</td>\n      <td>0</td>\n      <td>50</td>\n    </tr>\n    <tr>\n      <th>28</th>\n      <td>3982.0</td>\n      <td>ALLIS CHALMERS ENERGY INC.</td>\n      <td>200705.0</td>\n      <td>2007-05-10</td>\n      <td>10-Q</td>\n      <td>edgar/data/3982/0000950129-07-002432.txt</td>\n      <td>0</td>\n      <td>0</td>\n      <td>0.000000</td>\n      <td>0</td>\n      <td>...</td>\n      <td>4.978723</td>\n      <td>21</td>\n      <td>47</td>\n      <td>1</td>\n      <td>1</td>\n      <td>0</td>\n      <td>0</td>\n      <td>0</td>\n      <td>0</td>\n      <td>1</td>\n    </tr>\n    <tr>\n      <th>29</th>\n      <td>3982.0</td>\n      <td>ALLIS CHALMERS ENERGY INC.</td>\n      <td>200708.0</td>\n      <td>2007-08-09</td>\n      <td>10-Q</td>\n      <td>edgar/data/3982/0000950129-07-003918.txt</td>\n      <td>0</td>\n      <td>0</td>\n      <td>0.000000</td>\n      <td>0</td>\n      <td>...</td>\n      <td>4.983333</td>\n      <td>22</td>\n      <td>48</td>\n      <td>1</td>\n      <td>1</td>\n      <td>0</td>\n      <td>0</td>\n      <td>0</td>\n      <td>0</td>\n      <td>1</td>\n    </tr>\n    <tr>\n      <th>30</th>\n      <td>3982.0</td>\n      <td>ALLIS CHALMERS ENERGY INC.</td>\n      <td>200711.0</td>\n      <td>2007-11-06</td>\n      <td>10-Q</td>\n      <td>edgar/data/3982/0000950129-07-005361.txt</td>\n      <td>0</td>\n      <td>0</td>\n      <td>0.000000</td>\n      <td>0</td>\n      <td>...</td>\n      <td>4.983333</td>\n      <td>22</td>\n      <td>48</td>\n      <td>1</td>\n      <td>1</td>\n      <td>0</td>\n      <td>0</td>\n      <td>0</td>\n      <td>0</td>\n      <td>1</td>\n    </tr>\n    <tr>\n      <th>31</th>\n      <td>3982.0</td>\n      <td>ALLIS CHALMERS ENERGY INC.</td>\n      <td>200803.0</td>\n      <td>2008-03-07</td>\n      <td>10-K</td>\n      <td>edgar/data/3982/0000950129-08-001569.txt</td>\n      <td>0</td>\n      <td>0</td>\n      <td>0.000000</td>\n      <td>0</td>\n      <td>...</td>\n      <td>7.350541</td>\n      <td>2785</td>\n      <td>7400</td>\n      <td>94</td>\n      <td>63</td>\n      <td>0</td>\n      <td>0</td>\n      <td>0</td>\n      <td>0</td>\n      <td>63</td>\n    </tr>\n    <tr>\n      <th>32</th>\n      <td>3982.0</td>\n      <td>ALLIS CHALMERS ENERGY INC.</td>\n      <td>200804.0</td>\n      <td>2008-04-29</td>\n      <td>10-K/A</td>\n      <td>edgar/data/3982/0000950129-08-002507.txt</td>\n      <td>0</td>\n      <td>0</td>\n      <td>0.000000</td>\n      <td>0</td>\n      <td>...</td>\n      <td>0.000000</td>\n      <td>0</td>\n      <td>0</td>\n      <td>0</td>\n      <td>0</td>\n      <td>0</td>\n      <td>0</td>\n      <td>0</td>\n      <td>0</td>\n      <td>0</td>\n    </tr>\n    <tr>\n      <th>33</th>\n      <td>4447.0</td>\n      <td>AMERADA HESS CORP</td>\n      <td>200311.0</td>\n      <td>2003-11-12</td>\n      <td>10-Q</td>\n      <td>edgar/data/4447/0000950123-03-012528.txt</td>\n      <td>0</td>\n      <td>0</td>\n      <td>0.000000</td>\n      <td>0</td>\n      <td>...</td>\n      <td>0.000000</td>\n      <td>0</td>\n      <td>0</td>\n      <td>0</td>\n      <td>0</td>\n      <td>0</td>\n      <td>0</td>\n      <td>0</td>\n      <td>0</td>\n      <td>0</td>\n    </tr>\n    <tr>\n      <th>34</th>\n      <td>4447.0</td>\n      <td>AMERADA HESS CORP</td>\n      <td>200403.0</td>\n      <td>2004-03-12</td>\n      <td>10-K</td>\n      <td>edgar/data/4447/0000950123-04-003250.txt</td>\n      <td>0</td>\n      <td>0</td>\n      <td>0.000000</td>\n      <td>0</td>\n      <td>...</td>\n      <td>0.000000</td>\n      <td>0</td>\n      <td>0</td>\n      <td>0</td>\n      <td>0</td>\n      <td>0</td>\n      <td>0</td>\n      <td>0</td>\n      <td>0</td>\n      <td>0</td>\n    </tr>\n    <tr>\n      <th>35</th>\n      <td>4447.0</td>\n      <td>AMERADA HESS CORP</td>\n      <td>200403.0</td>\n      <td>2004-03-15</td>\n      <td>10-K/A</td>\n      <td>edgar/data/4447/0000950123-04-003322.txt</td>\n      <td>0</td>\n      <td>0</td>\n      <td>0.000000</td>\n      <td>0</td>\n      <td>...</td>\n      <td>0.000000</td>\n      <td>0</td>\n      <td>0</td>\n      <td>0</td>\n      <td>0</td>\n      <td>0</td>\n      <td>0</td>\n      <td>0</td>\n      <td>0</td>\n      <td>0</td>\n    </tr>\n    <tr>\n      <th>36</th>\n      <td>4447.0</td>\n      <td>AMERADA HESS CORP</td>\n      <td>200405.0</td>\n      <td>2004-05-07</td>\n      <td>10-Q</td>\n      <td>edgar/data/4447/0000950123-04-005950.txt</td>\n      <td>0</td>\n      <td>0</td>\n      <td>0.000000</td>\n      <td>0</td>\n      <td>...</td>\n      <td>0.000000</td>\n      <td>0</td>\n      <td>0</td>\n      <td>0</td>\n      <td>0</td>\n      <td>0</td>\n      <td>0</td>\n      <td>0</td>\n      <td>0</td>\n      <td>1</td>\n    </tr>\n    <tr>\n      <th>37</th>\n      <td>4447.0</td>\n      <td>AMERADA HESS CORP</td>\n      <td>200408.0</td>\n      <td>2004-08-06</td>\n      <td>10-Q</td>\n      <td>edgar/data/4447/0000950123-04-009350.txt</td>\n      <td>0</td>\n      <td>0</td>\n      <td>0.000000</td>\n      <td>0</td>\n      <td>...</td>\n      <td>0.000000</td>\n      <td>0</td>\n      <td>0</td>\n      <td>0</td>\n      <td>0</td>\n      <td>0</td>\n      <td>0</td>\n      <td>0</td>\n      <td>0</td>\n      <td>1</td>\n    </tr>\n    <tr>\n      <th>38</th>\n      <td>4447.0</td>\n      <td>AMERADA HESS CORP</td>\n      <td>200411.0</td>\n      <td>2004-11-05</td>\n      <td>10-Q</td>\n      <td>edgar/data/4447/0000950123-04-013054.txt</td>\n      <td>0</td>\n      <td>0</td>\n      <td>0.000000</td>\n      <td>0</td>\n      <td>...</td>\n      <td>0.000000</td>\n      <td>0</td>\n      <td>0</td>\n      <td>0</td>\n      <td>0</td>\n      <td>0</td>\n      <td>0</td>\n      <td>0</td>\n      <td>0</td>\n      <td>1</td>\n    </tr>\n    <tr>\n      <th>39</th>\n      <td>4447.0</td>\n      <td>AMERADA HESS CORP</td>\n      <td>200503.0</td>\n      <td>2005-03-14</td>\n      <td>10-K</td>\n      <td>edgar/data/4447/0000950123-05-003078.txt</td>\n      <td>0</td>\n      <td>0</td>\n      <td>0.000000</td>\n      <td>0</td>\n      <td>...</td>\n      <td>0.000000</td>\n      <td>0</td>\n      <td>0</td>\n      <td>0</td>\n      <td>0</td>\n      <td>0</td>\n      <td>0</td>\n      <td>0</td>\n      <td>0</td>\n      <td>0</td>\n    </tr>\n    <tr>\n      <th>40</th>\n      <td>4447.0</td>\n      <td>AMERADA HESS CORP</td>\n      <td>200505.0</td>\n      <td>2005-05-06</td>\n      <td>10-Q</td>\n      <td>edgar/data/4447/0000950123-05-005767.txt</td>\n      <td>0</td>\n      <td>0</td>\n      <td>0.000000</td>\n      <td>0</td>\n      <td>...</td>\n      <td>0.000000</td>\n      <td>0</td>\n      <td>0</td>\n      <td>0</td>\n      <td>0</td>\n      <td>0</td>\n      <td>0</td>\n      <td>0</td>\n      <td>0</td>\n      <td>1</td>\n    </tr>\n    <tr>\n      <th>41</th>\n      <td>4447.0</td>\n      <td>AMERADA HESS CORP</td>\n      <td>200508.0</td>\n      <td>2005-08-05</td>\n      <td>10-Q</td>\n      <td>edgar/data/4447/0000950123-05-009475.txt</td>\n      <td>0</td>\n      <td>0</td>\n      <td>0.000000</td>\n      <td>0</td>\n      <td>...</td>\n      <td>0.000000</td>\n      <td>0</td>\n      <td>0</td>\n      <td>0</td>\n      <td>0</td>\n      <td>0</td>\n      <td>0</td>\n      <td>0</td>\n      <td>0</td>\n      <td>1</td>\n    </tr>\n    <tr>\n      <th>42</th>\n      <td>4447.0</td>\n      <td>AMERADA HESS CORP</td>\n      <td>200511.0</td>\n      <td>2005-11-07</td>\n      <td>10-Q</td>\n      <td>edgar/data/4447/0000950123-05-013153.txt</td>\n      <td>0</td>\n      <td>0</td>\n      <td>0.000000</td>\n      <td>0</td>\n      <td>...</td>\n      <td>0.000000</td>\n      <td>0</td>\n      <td>0</td>\n      <td>0</td>\n      <td>0</td>\n      <td>0</td>\n      <td>0</td>\n      <td>0</td>\n      <td>0</td>\n      <td>1</td>\n    </tr>\n    <tr>\n      <th>43</th>\n      <td>4457.0</td>\n      <td>AMERCO /NV/</td>\n      <td>199911.0</td>\n      <td>1999-11-08</td>\n      <td>10-Q</td>\n      <td>edgar/data/4457/0000004457-99-000043.txt</td>\n      <td>12</td>\n      <td>60</td>\n      <td>-0.666667</td>\n      <td>17</td>\n      <td>...</td>\n      <td>0.000000</td>\n      <td>0</td>\n      <td>0</td>\n      <td>0</td>\n      <td>0</td>\n      <td>0</td>\n      <td>0</td>\n      <td>0</td>\n      <td>0</td>\n      <td>16</td>\n    </tr>\n    <tr>\n      <th>44</th>\n      <td>4457.0</td>\n      <td>AMERCO /NV/</td>\n      <td>200002.0</td>\n      <td>2000-02-10</td>\n      <td>10-Q</td>\n      <td>edgar/data/4457/0000004457-00-000018.txt</td>\n      <td>10</td>\n      <td>46</td>\n      <td>-0.642857</td>\n      <td>18</td>\n      <td>...</td>\n      <td>0.000000</td>\n      <td>0</td>\n      <td>0</td>\n      <td>0</td>\n      <td>0</td>\n      <td>0</td>\n      <td>0</td>\n      <td>0</td>\n      <td>0</td>\n      <td>14</td>\n    </tr>\n    <tr>\n      <th>45</th>\n      <td>4457.0</td>\n      <td>AMERCO /NV/</td>\n      <td>200006.0</td>\n      <td>2000-06-29</td>\n      <td>10-K</td>\n      <td>edgar/data/4457/0000004457-00-000067.txt</td>\n      <td>0</td>\n      <td>1</td>\n      <td>-0.999999</td>\n      <td>14</td>\n      <td>...</td>\n      <td>0.000000</td>\n      <td>0</td>\n      <td>0</td>\n      <td>0</td>\n      <td>0</td>\n      <td>0</td>\n      <td>0</td>\n      <td>0</td>\n      <td>0</td>\n      <td>1</td>\n    </tr>\n    <tr>\n      <th>46</th>\n      <td>4457.0</td>\n      <td>AMERCO /NV/</td>\n      <td>200008.0</td>\n      <td>2000-08-11</td>\n      <td>10-Q</td>\n      <td>edgar/data/4457/0000004457-00-000080.txt</td>\n      <td>9</td>\n      <td>35</td>\n      <td>-0.590909</td>\n      <td>19</td>\n      <td>...</td>\n      <td>0.000000</td>\n      <td>0</td>\n      <td>0</td>\n      <td>0</td>\n      <td>0</td>\n      <td>0</td>\n      <td>0</td>\n      <td>0</td>\n      <td>0</td>\n      <td>11</td>\n    </tr>\n    <tr>\n      <th>47</th>\n      <td>4457.0</td>\n      <td>AMERCO /NV/</td>\n      <td>200011.0</td>\n      <td>2000-11-13</td>\n      <td>10-Q</td>\n      <td>edgar/data/4457/0000004457-00-000105.txt</td>\n      <td>7</td>\n      <td>22</td>\n      <td>-0.517241</td>\n      <td>17</td>\n      <td>...</td>\n      <td>0.000000</td>\n      <td>0</td>\n      <td>0</td>\n      <td>0</td>\n      <td>0</td>\n      <td>0</td>\n      <td>0</td>\n      <td>0</td>\n      <td>0</td>\n      <td>7</td>\n    </tr>\n    <tr>\n      <th>48</th>\n      <td>4457.0</td>\n      <td>AMERCO /NV/</td>\n      <td>200102.0</td>\n      <td>2001-02-14</td>\n      <td>10-Q</td>\n      <td>edgar/data/4457/0000004457-01-500024.txt</td>\n      <td>7</td>\n      <td>31</td>\n      <td>-0.631579</td>\n      <td>16</td>\n      <td>...</td>\n      <td>0.000000</td>\n      <td>0</td>\n      <td>0</td>\n      <td>0</td>\n      <td>0</td>\n      <td>0</td>\n      <td>0</td>\n      <td>0</td>\n      <td>0</td>\n      <td>7</td>\n    </tr>\n    <tr>\n      <th>49</th>\n      <td>4457.0</td>\n      <td>AMERCO /NV/</td>\n      <td>200107.0</td>\n      <td>2001-07-02</td>\n      <td>10-K</td>\n      <td>edgar/data/4457/0000004457-01-500063.txt</td>\n      <td>17</td>\n      <td>57</td>\n      <td>-0.540541</td>\n      <td>20</td>\n      <td>...</td>\n      <td>0.000000</td>\n      <td>0</td>\n      <td>0</td>\n      <td>0</td>\n      <td>0</td>\n      <td>0</td>\n      <td>0</td>\n      <td>0</td>\n      <td>0</td>\n      <td>14</td>\n    </tr>\n  </tbody>\n</table>\n<p>50 rows × 49 columns</p>\n</div>"
     },
     "metadata": {},
     "execution_count": 33
    }
   ],
   "source": [
    "inputTextCol = ['mda_extract','qqd_extract','riskfactor_extract']\n",
    "finalOutput = df.drop(inputTextCol,1)\n",
    "\n",
    "finalOutput.head(50)"
   ]
  },
  {
   "source": [
    "## Saving CSV File"
   ],
   "cell_type": "markdown",
   "metadata": {}
  },
  {
   "cell_type": "code",
   "execution_count": 34,
   "metadata": {},
   "outputs": [],
   "source": [
    "finalOutput.to_csv('Final Output.csv', sep=',', encoding='utf-8')"
   ]
  }
 ]
}